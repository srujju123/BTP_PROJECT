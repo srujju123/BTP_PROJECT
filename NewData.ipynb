{
  "cells": [
    {
      "cell_type": "code",
      "execution_count": null,
      "metadata": {
        "id": "XBd778f0Ah3e"
      },
      "outputs": [],
      "source": [
        "Cv = 54.17 #clearance volume in cc\n",
        "a = 5.8 # cm\n",
        "b = 10.2 # bore length in cm\n",
        "St = 11.6 # stroke length in cm\n",
        "l = 23.2 # connecting rod length in cm\n",
        "pi = 3.14159\n",
        "R = l/a\n",
        "gamma_const = 1.38\n",
        "Pin = 1.995 # bar\n",
        "Tin = 84+273.15 # Kelvin\n",
        "c1 = 2.28\n",
        "c2 = 0.0"
      ]
    },
    {
      "cell_type": "code",
      "execution_count": null,
      "metadata": {
        "colab": {
          "background_save": true
        },
        "id": "UcqpbC-CA5kN"
      },
      "outputs": [],
      "source": [
        "import pandas as pd\n",
        "import numpy as np\n",
        "import math\n",
        "import matplotlib.pyplot as plt\n",
        "import plotly.graph_objs as go\n",
        "\n",
        "file_path=\"data1.csv\"\n",
        "\n",
        "df=pd.read_csv(file_path)\n",
        "\n",
        "def formula(row):\n",
        "  return row['CAD']*pi/180\n",
        "\n",
        "df['CAD in rad']=df.apply(formula,axis=1)\n",
        "\n",
        "df.to_csv(file_path,index=False)\n",
        "\n",
        "#instantanoues stroke length\n",
        "def formula(row):\n",
        "  return l+a-a*math.cos(row['CAD in rad']) - math.sqrt(pow(l, 2)-pow(a*math.sin(row['CAD in rad']), 2))\n",
        "\n",
        "df['S'] = df.apply(formula, axis = 1)\n",
        "df.to_csv(file_path, index = False)\n",
        "\n",
        "#Volume units in m3\n",
        "def formula(row):\n",
        "  return (Cv + (pi*pow(b, 2)*row['S']/4))\n",
        "\n",
        "df['volume'] = df.apply(formula, axis = 1)\n",
        "df.to_csv(file_path, index = False)\n",
        "\n",
        "#pressure\n",
        "Vin = df['volume'][0]\n",
        "\n",
        "def formula(row):\n",
        "  return Pin*pow(Vin, gamma_const)/pow(row['volume'], gamma_const)\n",
        "\n",
        "df['pressure(bar)'] = df.apply(formula, axis = 1)\n",
        "df.to_csv(file_path, index = False)\n",
        "\n",
        "#temperature\n",
        "def formula(row):\n",
        "  return Tin*pow(row['volume'], 1-gamma_const) / pow(Vin, 1-gamma_const)\n",
        "\n",
        "df['temp_var'] = df.apply(formula, axis = 1)\n",
        "df.to_csv(file_path, index = False)\n",
        "\n",
        "#gamma\n",
        "def formula(row):\n",
        "  return -1.1662*pow(10,-13)*pow(row['temp_var'], 4) + 4.5781*pow(10,-10)*pow(row['temp_var'], 3) - 6.0001*pow(10, -7)*pow(row['temp_var'], 2) + 2.1733*pow(10,-4)*row['temp_var'] + 1.3776\n",
        "\n",
        "df['gamma_var'] = df.apply(formula, axis = 1)\n",
        "df.to_csv(file_path, index = False)\n",
        "\n",
        "#pressure using gamma_var\n",
        "calculated_values = []\n",
        "for i in range(1, len(df.axes[0])):\n",
        "    calculated_value = Pin * pow(Vin, df.at[i, 'gamma_var']) / pow(df.at[i, 'volume'], df.at[i-1, 'gamma_var'])\n",
        "    calculated_values.append(calculated_value)\n",
        "\n",
        "calculated_values.insert(0, 1.87)  # Adding the initial value\n",
        "df['P1'] = calculated_values\n",
        "\n",
        "#temperature varialble usind gamma variable\n",
        "df['T1']=Tin*pow(df['volume'], 1-df['gamma_var']) / pow(Vin, 1-df['gamma_var'])\n",
        "\n",
        "#gamma1\n",
        "df['gamma1']=-1.1662*pow(10,-13)*pow(df['T1'], 4) + 4.5781*pow(10,-10)*pow(df['T1'], 3) - 6.0001*pow(10, -7)*pow(df['T1'], 2) + 2.1733*pow(10,-4)*df['T1'] + 1.3776\n",
        "\n",
        "#second iteration\n",
        "calculated_values = []\n",
        "for i in range(1, len(df.axes[0])):\n",
        "    calculated_value = Pin * pow(Vin, df.at[i, 'gamma1']) / pow(df.at[i, 'volume'], df.at[i-1, 'gamma1'])\n",
        "    calculated_values.append(calculated_value)\n",
        "\n",
        "calculated_values.insert(0, 1.87)  # Adding the initial value\n",
        "df['P2'] = calculated_values\n",
        "df['T2']=Tin*pow(df['volume'], 1-df['gamma1']) / pow(Vin, 1-df['gamma1'])\n",
        "df['gamma2']=-1.1662*pow(10,-13)*pow(df['T2'], 4) + 4.5781*pow(10,-10)*pow(df['T2'], 3) - 6.0001*pow(10, -7)*pow(df['T2'], 2) + 2.1733*pow(10,-4)*df['T2'] + 1.3776\n",
        "\n",
        "#Third iteration\n",
        "calculated_values = []\n",
        "for i in range(1, len(df.axes[0])):\n",
        "    calculated_value = Pin * pow(Vin, df.at[i, 'gamma2']) / pow(df.at[i, 'volume'], df.at[i-1, 'gamma2'])\n",
        "    calculated_values.append(calculated_value)\n",
        "\n",
        "calculated_values.insert(0, 1.87)  # Adding the initial value\n",
        "df['P3'] = calculated_values\n",
        "df['T3']=Tin*pow(df['volume'], 1-df['gamma2']) / pow(Vin, 1-df['gamma2'])\n",
        "\n",
        "#Pmotor\n",
        "def formula(row):\n",
        "  return Pin*pow(Vin, row['gamma2'])/pow(row['volume'], row['gamma2'])\n",
        "\n",
        "df['Pm'] = df.apply(formula,axis=1)\n",
        "df.to_csv(file_path, index = False)\n",
        "\n",
        "#mean piston speed - Sp\n",
        "def formula(row):\n",
        "  return 2*St*row['rpm']/6000\n",
        "\n",
        "df['Sp'] = df.apply(formula, axis = 1)\n",
        "df.to_csv(file_path, index = False)\n",
        "\n",
        "# velocity-V\n",
        "def formula(row):\n",
        "  return c1*row['Sp'] + c2\n",
        "\n",
        "df['vel(m/s)'] = df.apply(formula, axis = 1)\n",
        "df.to_csv(file_path, index = False)\n",
        "\n",
        "# heat transfer co-efficient [w/m2-K]\n",
        "A = 130.000 # woschni\n",
        "const_a = -0.200\n",
        "const_b = 0.800\n",
        "const_c = -0.550\n",
        "const_d = 0.800\n",
        "\n",
        "def formula(row):\n",
        "  return A*pow(b/100,const_a)*pow(row['P3'],const_b)*pow(row['T3'],const_c)*pow(row['vel(m/s)'],const_d)\n",
        "  # return A*pow(b/100,const_a)*pow(row['pressure(bar)']*0.00001,const_b)*pow(row['temp_var'],const_c)*pow(row['vel(m/s)'],const_d)\n",
        "\n",
        "df['h'] = df.apply(formula, axis = 1)\n",
        "df.to_csv(file_path, index = False)\n",
        "\n",
        "# heat transfer co-efficient [w/m2-K]\n",
        "A = 130.000 # hohenberg\n",
        "const_a = 0.80\n",
        "const_b = -0.40\n",
        "const_c = -0.06\n",
        "const_d = 0.80\n",
        "\n",
        "def formula(row):\n",
        "  return A*pow(row['P3'],const_a)*pow(row['T3'],const_b)*pow(row['volume'],const_c)*pow(row['Sp']+1.4,const_d)\n",
        "  # return A*pow(b/100,const_a)*pow(row['pressure(bar)']*0.00001,const_b)*pow(row['temp_var'],const_c)*pow(row['vel(m/s)'],const_d)\n",
        "\n",
        "df['h(hohen)'] = df.apply(formula, axis = 1)\n",
        "df.to_csv(file_path, index = False)\n",
        "\n",
        "# Area [m2] formula doubt\n",
        "A_c = 0 #0.0203 # m2\n",
        "A_v = 0 #0.0376 # m2\n",
        "\n",
        "def formula(row):\n",
        "  return pi*pow(b/100,2) + pi*(b/100)*(St/200)*(R+1 - math.cos(row['CAD in rad']) - math.sqrt(pow(R, 2) - pow(math.sin(row['CAD in rad']), 2))) + A_c + A_v\n",
        "\n",
        "df['Area'] = df.apply(formula, axis = 1)\n",
        "df.to_csv(file_path, index = False)\n",
        "\n",
        "#dtheta\n",
        "\n",
        "df['d_theta'] = df['CAD in rad'].diff(periods=-1)*-1\n",
        "df.to_csv(file_path, index = False)\n",
        "\n",
        "pi = 3.14\n",
        "df['time'] = (60*df['CAD'])/(2*pi*df['rpm'])\n",
        "\n",
        "df['dt'] = df['time'].diff(periods=-1)*-1\n",
        "df.to_csv(file_path, index = False)\n",
        "\n",
        "# Rate of heat transfer (heat release rate)\n",
        "Tw = 374.15 # K\n",
        "pi=3.14\n",
        "\n",
        "def formula(row):\n",
        "  return -(row['Area']*row['d_theta']/(6*row['rpm']))*row['h']*(row['T3']-Tw)\n",
        "\n",
        "df['dQ'] = df.apply(formula, axis = 1)\n",
        "df.to_csv(file_path, index = False)\n",
        "\n",
        "# Rate of heat transfer (heat release rate)\n",
        "def formula(row):\n",
        "  return -(row['Area']*row['d_theta']/(6*row['rpm']))*row['h(hohen)']*(row['T3']-Tw)\n",
        "\n",
        "df['dQ(hohen)'] = df.apply(formula, axis = 1)\n",
        "df.to_csv(file_path, index = False)\n",
        "\n",
        "#change in volume\n",
        "df['dV'] = df['volume'].diff(periods=-1)*-1\n",
        "df.to_csv(file_path, index = False)\n",
        "\n",
        "#change in pressure (bar)\n",
        "def formula(row):\n",
        "  return ((row['dQ']*(row['gamma2']-1))-(row['P3']*row['dV']*row['gamma2']))/row['volume']\n",
        "\n",
        "df['dP'] = df.apply(formula, axis = 1)\n",
        "df.to_csv(file_path, index = False)\n",
        "\n",
        "#change in pressure (bar)\n",
        "def formula(row):\n",
        "  return ((row['dQ(hohen)']*(row['gamma2']-1))-(row['P3']*row['dV']*row['gamma2']))/row['volume']\n",
        "\n",
        "df['dP(hohen)'] = df.apply(formula, axis = 1)\n",
        "df.to_csv(file_path, index = False)\n",
        "\n",
        "# Convection pressure\n",
        "def formula(row):\n",
        "  return row['dP']+row['P3']\n",
        "\n",
        "df['P_conv'] = df.apply(formula, axis = 1)\n",
        "df.to_csv(file_path, index = False)\n",
        "\n",
        "# Convection pressure\n",
        "def formula(row):\n",
        "  return row['dP(hohen)']+row['P3']\n",
        "\n",
        "df['P_conv(hohen)'] = df.apply(formula, axis = 1)\n",
        "df.to_csv(file_path, index = False)\n",
        "\n",
        "# HRR\n",
        "def formula(row):\n",
        "  # return row['dQ']*6*row['rpm']/row['d_theta']\n",
        "   return abs(row['dQ']*6*row['rpm']/row['d_theta'])\n",
        "\n",
        "df['HRR'] = df.apply(formula, axis = 1)\n",
        "df.to_csv(file_path, index = False)\n",
        "\n",
        "df['dV/d0'] = df['volume'].diff(periods=1)/df['CAD'].diff(periods=1)\n",
        "df['dP/d0'] = df['P3'].diff(periods=1)/df['CAD'].diff(periods=1)\n",
        "df['dQ/d0'] = (1/(df['gamma2']-1))*df['volume']*df['dP/d0']*-1 + (df['gamma2']/(df['gamma2']-1))*df['P3']*df['dV/d0']*-1\n",
        "\n",
        "# HRR\n",
        "def formula(row):\n",
        "  # return row['dQ']*6*row['rpm']/row['d_theta']\n",
        "   return abs(row['dQ(hohen)']*6*row['rpm']/row['d_theta'])\n",
        "\n",
        "df['HRR(hohen)'] = df.apply(formula, axis = 1)\n",
        "df.to_csv(file_path, index = False)\n",
        "\n",
        "# Heat flux (kW/m2)\n",
        "def formula(row):\n",
        "   return row['h']*(row['T3'] - Tw)/1000\n",
        "\n",
        "df['Heat_flux'] = df.apply(formula, axis = 1)\n",
        "df.to_csv(file_path, index = False)\n",
        "\n",
        "# Heat flux (kW/m2)\n",
        "def formula(row):\n",
        "   return row['h(hohen)']*(row['T3'] - Tw)/1000\n",
        "\n",
        "df['Heat_flux(hohen)'] = df.apply(formula, axis = 1)\n",
        "df.to_csv(file_path, index = False)\n",
        "\n",
        "#change in area\n",
        "df['dA'] = df['Area'].diff(periods=-1)*-1\n",
        "df.to_csv(file_path, index = False)\n",
        "\n",
        "R = 8.3144   #--> joules. mole-1. K-1\n",
        "df['m'] = df['pressure(bar)']*df['volume']/(R*df['T3'])\n",
        "\n",
        "Cv = R/(gamma_const-1)\n",
        "df['dT'] = ((-df['pressure(bar)']*df['dV']) - (df['h']*df['dA']/(df['T3']-Tw)))/(df['m']*Cv)\n",
        "df['dT(hohen)'] = ((-df['P3']*df['dV']) - (df['h(hohen)']*df['dA']/(df['T3']-Tw)))/(df['m']*Cv)\n",
        "\n",
        "df['T_conv'] = df['dT']+df['T3']\n",
        "df['T_conv(hohen)'] = df['dT(hohen)']+df['T3']\n",
        "\n"
      ]
    },
    {
      "cell_type": "code",
      "execution_count": null,
      "metadata": {
        "colab": {
          "background_save": true,
          "base_uri": "https://localhost:8080/",
          "height": 472
        },
        "id": "aWbQu8KGrkQ1",
        "outputId": "a802c32c-c4e0-4bf5-82d2-b3e3983123c7"
      },
      "outputs": [
        {
          "data": {
            "image/png": "[encoded data removed]",
            "text/plain": [
              "<Figure size 640x480 with 1 Axes>"
            ]
          },
          "metadata": {},
          "output_type": "display_data"
        },
        {
          "ename": "KeyError",
          "evalue": "ignored",
          "output_type": "error",
          "traceback": [
            "\u001b[0;31m---------------------------------------------------------------------------\u001b[0m",
            "\u001b[0;31mKeyError\u001b[0m                                  Traceback (most recent call last)",
            "\u001b[0;32m<ipython-input-3-166974564e7c>\u001b[0m in \u001b[0;36m<cell line: 12>\u001b[0;34m()\u001b[0m\n\u001b[1;32m     10\u001b[0m \u001b[0;31m# print bar graph\u001b[0m\u001b[0;34m\u001b[0m\u001b[0;34m\u001b[0m\u001b[0m\n\u001b[1;32m     11\u001b[0m \u001b[0mplt\u001b[0m\u001b[0;34m.\u001b[0m\u001b[0mshow\u001b[0m\u001b[0;34m(\u001b[0m\u001b[0;34m)\u001b[0m\u001b[0;34m\u001b[0m\u001b[0;34m\u001b[0m\u001b[0m\n\u001b[0;32m---> 12\u001b[0;31m \u001b[0mdata\u001b[0m\u001b[0;34m.\u001b[0m\u001b[0mplot\u001b[0m\u001b[0;34m(\u001b[0m\u001b[0mx\u001b[0m\u001b[0;34m=\u001b[0m\u001b[0;34m\"CAD\"\u001b[0m\u001b[0;34m,\u001b[0m \u001b[0my\u001b[0m\u001b[0;34m=\u001b[0m\u001b[0;34m[\u001b[0m\u001b[0;34m\"pressure(bar)\"\u001b[0m\u001b[0;34m]\u001b[0m\u001b[0;34m,\u001b[0m \u001b[0mkind\u001b[0m \u001b[0;34m=\u001b[0m \u001b[0;34m\"line\"\u001b[0m\u001b[0;34m)\u001b[0m\u001b[0;34m\u001b[0m\u001b[0;34m\u001b[0m\u001b[0m\n\u001b[0m\u001b[1;32m     13\u001b[0m \u001b[0mplt\u001b[0m\u001b[0;34m.\u001b[0m\u001b[0mtitle\u001b[0m\u001b[0;34m(\u001b[0m\u001b[0;34m\"CAD vs pressure(bar)\"\u001b[0m\u001b[0;34m)\u001b[0m\u001b[0;34m\u001b[0m\u001b[0;34m\u001b[0m\u001b[0m\n\u001b[1;32m     14\u001b[0m \u001b[0mplt\u001b[0m\u001b[0;34m.\u001b[0m\u001b[0mxlabel\u001b[0m\u001b[0;34m(\u001b[0m\u001b[0;34m\"CAD (degree)\"\u001b[0m\u001b[0;34m)\u001b[0m\u001b[0;34m\u001b[0m\u001b[0;34m\u001b[0m\u001b[0m\n",
            "\u001b[0;32m/usr/local/lib/python3.10/dist-packages/pandas/plotting/_core.py\u001b[0m in \u001b[0;36m__call__\u001b[0;34m(self, *args, **kwargs)\u001b[0m\n\u001b[1;32m    984\u001b[0m \u001b[0;34m\u001b[0m\u001b[0m\n\u001b[1;32m    985\u001b[0m                 \u001b[0;31m# don't overwrite\u001b[0m\u001b[0;34m\u001b[0m\u001b[0;34m\u001b[0m\u001b[0m\n\u001b[0;32m--> 986\u001b[0;31m                 \u001b[0mdata\u001b[0m \u001b[0;34m=\u001b[0m \u001b[0mdata\u001b[0m\u001b[0;34m[\u001b[0m\u001b[0my\u001b[0m\u001b[0;34m]\u001b[0m\u001b[0;34m.\u001b[0m\u001b[0mcopy\u001b[0m\u001b[0;34m(\u001b[0m\u001b[0;34m)\u001b[0m\u001b[0;34m\u001b[0m\u001b[0;34m\u001b[0m\u001b[0m\n\u001b[0m\u001b[1;32m    987\u001b[0m \u001b[0;34m\u001b[0m\u001b[0m\n\u001b[1;32m    988\u001b[0m                 \u001b[0;32mif\u001b[0m \u001b[0misinstance\u001b[0m\u001b[0;34m(\u001b[0m\u001b[0mdata\u001b[0m\u001b[0;34m,\u001b[0m \u001b[0mABCSeries\u001b[0m\u001b[0;34m)\u001b[0m\u001b[0;34m:\u001b[0m\u001b[0;34m\u001b[0m\u001b[0;34m\u001b[0m\u001b[0m\n",
            "\u001b[0;32m/usr/local/lib/python3.10/dist-packages/pandas/core/frame.py\u001b[0m in \u001b[0;36m__getitem__\u001b[0;34m(self, key)\u001b[0m\n\u001b[1;32m   3811\u001b[0m             \u001b[0;32mif\u001b[0m \u001b[0mis_iterator\u001b[0m\u001b[0;34m(\u001b[0m\u001b[0mkey\u001b[0m\u001b[0;34m)\u001b[0m\u001b[0;34m:\u001b[0m\u001b[0;34m\u001b[0m\u001b[0;34m\u001b[0m\u001b[0m\n\u001b[1;32m   3812\u001b[0m                 \u001b[0mkey\u001b[0m \u001b[0;34m=\u001b[0m \u001b[0mlist\u001b[0m\u001b[0;34m(\u001b[0m\u001b[0mkey\u001b[0m\u001b[0;34m)\u001b[0m\u001b[0;34m\u001b[0m\u001b[0;34m\u001b[0m\u001b[0m\n\u001b[0;32m-> 3813\u001b[0;31m             \u001b[0mindexer\u001b[0m \u001b[0;34m=\u001b[0m \u001b[0mself\u001b[0m\u001b[0;34m.\u001b[0m\u001b[0mcolumns\u001b[0m\u001b[0;34m.\u001b[0m\u001b[0m_get_indexer_strict\u001b[0m\u001b[0;34m(\u001b[0m\u001b[0mkey\u001b[0m\u001b[0;34m,\u001b[0m \u001b[0;34m\"columns\"\u001b[0m\u001b[0;34m)\u001b[0m\u001b[0;34m[\u001b[0m\u001b[0;36m1\u001b[0m\u001b[0;34m]\u001b[0m\u001b[0;34m\u001b[0m\u001b[0;34m\u001b[0m\u001b[0m\n\u001b[0m\u001b[1;32m   3814\u001b[0m \u001b[0;34m\u001b[0m\u001b[0m\n\u001b[1;32m   3815\u001b[0m         \u001b[0;31m# take() does not accept boolean indexers\u001b[0m\u001b[0;34m\u001b[0m\u001b[0;34m\u001b[0m\u001b[0m\n",
            "\u001b[0;32m/usr/local/lib/python3.10/dist-packages/pandas/core/indexes/base.py\u001b[0m in \u001b[0;36m_get_indexer_strict\u001b[0;34m(self, key, axis_name)\u001b[0m\n\u001b[1;32m   6068\u001b[0m             \u001b[0mkeyarr\u001b[0m\u001b[0;34m,\u001b[0m \u001b[0mindexer\u001b[0m\u001b[0;34m,\u001b[0m \u001b[0mnew_indexer\u001b[0m \u001b[0;34m=\u001b[0m \u001b[0mself\u001b[0m\u001b[0;34m.\u001b[0m\u001b[0m_reindex_non_unique\u001b[0m\u001b[0;34m(\u001b[0m\u001b[0mkeyarr\u001b[0m\u001b[0;34m)\u001b[0m\u001b[0;34m\u001b[0m\u001b[0;34m\u001b[0m\u001b[0m\n\u001b[1;32m   6069\u001b[0m \u001b[0;34m\u001b[0m\u001b[0m\n\u001b[0;32m-> 6070\u001b[0;31m         \u001b[0mself\u001b[0m\u001b[0;34m.\u001b[0m\u001b[0m_raise_if_missing\u001b[0m\u001b[0;34m(\u001b[0m\u001b[0mkeyarr\u001b[0m\u001b[0;34m,\u001b[0m \u001b[0mindexer\u001b[0m\u001b[0;34m,\u001b[0m \u001b[0maxis_name\u001b[0m\u001b[0;34m)\u001b[0m\u001b[0;34m\u001b[0m\u001b[0;34m\u001b[0m\u001b[0m\n\u001b[0m\u001b[1;32m   6071\u001b[0m \u001b[0;34m\u001b[0m\u001b[0m\n\u001b[1;32m   6072\u001b[0m         \u001b[0mkeyarr\u001b[0m \u001b[0;34m=\u001b[0m \u001b[0mself\u001b[0m\u001b[0;34m.\u001b[0m\u001b[0mtake\u001b[0m\u001b[0;34m(\u001b[0m\u001b[0mindexer\u001b[0m\u001b[0;34m)\u001b[0m\u001b[0;34m\u001b[0m\u001b[0;34m\u001b[0m\u001b[0m\n",
            "\u001b[0;32m/usr/local/lib/python3.10/dist-packages/pandas/core/indexes/base.py\u001b[0m in \u001b[0;36m_raise_if_missing\u001b[0;34m(self, key, indexer, axis_name)\u001b[0m\n\u001b[1;32m   6128\u001b[0m                 \u001b[0;32mif\u001b[0m \u001b[0muse_interval_msg\u001b[0m\u001b[0;34m:\u001b[0m\u001b[0;34m\u001b[0m\u001b[0;34m\u001b[0m\u001b[0m\n\u001b[1;32m   6129\u001b[0m                     \u001b[0mkey\u001b[0m \u001b[0;34m=\u001b[0m \u001b[0mlist\u001b[0m\u001b[0;34m(\u001b[0m\u001b[0mkey\u001b[0m\u001b[0;34m)\u001b[0m\u001b[0;34m\u001b[0m\u001b[0;34m\u001b[0m\u001b[0m\n\u001b[0;32m-> 6130\u001b[0;31m                 \u001b[0;32mraise\u001b[0m \u001b[0mKeyError\u001b[0m\u001b[0;34m(\u001b[0m\u001b[0;34mf\"None of [{key}] are in the [{axis_name}]\"\u001b[0m\u001b[0;34m)\u001b[0m\u001b[0;34m\u001b[0m\u001b[0;34m\u001b[0m\u001b[0m\n\u001b[0m\u001b[1;32m   6131\u001b[0m \u001b[0;34m\u001b[0m\u001b[0m\n\u001b[1;32m   6132\u001b[0m             \u001b[0mnot_found\u001b[0m \u001b[0;34m=\u001b[0m \u001b[0mlist\u001b[0m\u001b[0;34m(\u001b[0m\u001b[0mensure_index\u001b[0m\u001b[0;34m(\u001b[0m\u001b[0mkey\u001b[0m\u001b[0;34m)\u001b[0m\u001b[0;34m[\u001b[0m\u001b[0mmissing_mask\u001b[0m\u001b[0;34m.\u001b[0m\u001b[0mnonzero\u001b[0m\u001b[0;34m(\u001b[0m\u001b[0;34m)\u001b[0m\u001b[0;34m[\u001b[0m\u001b[0;36m0\u001b[0m\u001b[0;34m]\u001b[0m\u001b[0;34m]\u001b[0m\u001b[0;34m.\u001b[0m\u001b[0munique\u001b[0m\u001b[0;34m(\u001b[0m\u001b[0;34m)\u001b[0m\u001b[0;34m)\u001b[0m\u001b[0;34m\u001b[0m\u001b[0;34m\u001b[0m\u001b[0m\n",
            "\u001b[0;31mKeyError\u001b[0m: \"None of [Index(['pressure(bar)'], dtype='object')] are in the [columns]\""
          ]
        }
      ],
      "source": [
        "# form dataframe\n",
        "data = pd.DataFrame(df, columns=[\"CAD\", \"volume\"])\n",
        "\n",
        "# plot the dataframe\n",
        "data.plot(x=\"CAD\", y=[\"volume\"], kind = \"line\")\n",
        "plt.title(\"CAD vs volume\")\n",
        "plt.xlabel(\"CAD (degree)\")\n",
        "plt.ylabel(\"volume (m3)\")\n",
        "\n",
        "# print bar graph\n",
        "plt.show()"
      ]
    },
    {
      "cell_type": "code",
      "execution_count": null,
      "metadata": {
        "colab": {
          "background_save": true
        },
        "id": "_NP9v7kMsfyU"
      },
      "outputs": [],
      "source": [
        "# form dataframe\n",
        "data = pd.DataFrame(df, columns=[\"CAD\", \"P_conv\"])\n",
        "\n",
        "# plot the dataframe\n",
        "data.plot(x=\"CAD\", y=[\"P_conv\"], kind = \"line\")\n",
        "# plt.xticks(range(300, 380))\n",
        "plt.title(\"CAD vs P_conv\")\n",
        "plt.xlabel(\"CAD (degree)\")\n",
        "plt.ylabel(\"P_conv (bar)\")\n",
        "\n",
        "# print bar graph\n",
        "plt.show()\n",
        "\n",
        "# form dataframe\n",
        "data = pd.DataFrame(df, columns=[\"CAD\", \"P_conv(hohen)\"])\n",
        "\n",
        "# plot the dataframe\n",
        "data.plot(x=\"CAD\", y=[\"P_conv(hohen)\"], kind = \"line\")\n",
        "# plt.xticks(range(300, 380))\n",
        "plt.title(\"CAD vs P_conv(hohen)\")\n",
        "plt.xlabel(\"CAD (degree)\")\n",
        "plt.ylabel(\"P_conv(hohen) (bar)\")\n",
        "\n",
        "# print bar graph\n",
        "plt.show()"
      ]
    },
    {
      "cell_type": "code",
      "execution_count": null,
      "metadata": {
        "colab": {
          "background_save": true
        },
        "id": "217XuFUTtwcg"
      },
      "outputs": [],
      "source": [
        "# form dataframe\n",
        "data = pd.DataFrame(df, columns=[\"CAD\", \"HRR\"])\n",
        "\n",
        "# plot the dataframe\n",
        "data.plot(x=\"CAD\", y=[\"HRR\"], kind = \"line\")\n",
        "# plt.xticks(range(300, 380))\n",
        "plt.title(\"CAD vs HRR\")\n",
        "plt.xlabel(\"CAD (degree)\")\n",
        "plt.ylabel(\"HRR\")\n",
        "\n",
        "# print bar graph\n",
        "plt.show()\n",
        "\n",
        "# form dataframe\n",
        "data = pd.DataFrame(df, columns=[\"CAD\", \"HRR(hohen)\"])\n",
        "\n",
        "# plot the dataframe\n",
        "data.plot(x=\"CAD\", y=[\"HRR(hohen)\"], kind = \"line\")\n",
        "# plt.xticks(range(300, 380))\n",
        "plt.title(\"CAD vs HRR(hohen)\")\n",
        "plt.xlabel(\"CAD (degree)\")\n",
        "plt.ylabel(\"HRR(hohen)\")\n",
        "\n",
        "# print bar graph\n",
        "plt.show()"
      ]
    },
    {
      "cell_type": "code",
      "execution_count": null,
      "metadata": {
        "colab": {
          "background_save": true
        },
        "id": "1HCmp73suyLV"
      },
      "outputs": [],
      "source": [
        "# form dataframe\n",
        "data = pd.DataFrame(df, columns=[\"CAD\", \"Heat_flux\"])\n",
        "\n",
        "# plot the dataframe\n",
        "data.plot(x=\"CAD\", y=[\"Heat_flux\"], kind = \"line\")\n",
        "# plt.xticks(range(300, 380))\n",
        "plt.title(\"CAD vs Heat_flux\")\n",
        "plt.xlabel(\"CAD (degree)\")\n",
        "plt.ylabel(\"Heat_flux\")\n",
        "\n",
        "# print bar graph\n",
        "plt.show()\n",
        "\n",
        "# form dataframe\n",
        "data = pd.DataFrame(df, columns=[\"CAD\", \"Heat_flux(hohen)\"])\n",
        "\n",
        "# plot the dataframe\n",
        "data.plot(x=\"CAD\", y=[\"Heat_flux(hohen)\"], kind = \"line\")\n",
        "# plt.xticks(range(300, 380))\n",
        "plt.title(\"CAD vs Heat_flux(hohen)\")\n",
        "plt.xlabel(\"CAD (degree)\")\n",
        "plt.ylabel(\"Heat_flux(hohen)\")\n",
        "\n",
        "# print bar graph\n",
        "plt.show()"
      ]
    },
    {
      "cell_type": "code",
      "execution_count": null,
      "metadata": {
        "colab": {
          "background_save": true
        },
        "id": "LPW71BBQxV8U"
      },
      "outputs": [],
      "source": [
        "# form dataframe\n",
        "data = pd.DataFrame(df, columns=[\"CAD\", \"T_conv\"])\n",
        "\n",
        "# plot the dataframe\n",
        "data.plot(x=\"CAD\", y=[\"T_conv\"], kind = \"line\")\n",
        "plt.title(\"CAD vs T_conv\")\n",
        "plt.xlabel(\"CAD (degree)\")\n",
        "plt.ylabel(\"T_conv\")\n",
        "\n",
        "plt.show()\n",
        "\n",
        "# form dataframe\n",
        "data = pd.DataFrame(df, columns=[\"CAD\", \"T_conv(hohen)\"])\n",
        "\n",
        "# plot the dataframe\n",
        "data.plot(x=\"CAD\", y=[\"T_conv(hohen)\"], kind = \"line\")\n",
        "plt.title(\"CAD vs T_conv(hohen)\")\n",
        "plt.xlabel(\"CAD (degree)\")\n",
        "plt.ylabel(\"T_conv\")\n",
        "\n",
        "plt.show()"
      ]
    },
    {
      "cell_type": "code",
      "execution_count": null,
      "metadata": {
        "colab": {
          "background_save": true
        },
        "id": "hcSIjyKD383U"
      },
      "outputs": [],
      "source": [
        "ans = max(df['T_conv'])\n",
        "ans"
      ]
    },
    {
      "cell_type": "code",
      "execution_count": null,
      "metadata": {
        "colab": {
          "background_save": true
        },
        "id": "VrnrA0YZ4Jvl"
      },
      "outputs": [],
      "source": [
        "ans = max(df['T_conv(hohen)'])\n",
        "ans"
      ]
    },
    {
      "cell_type": "code",
      "execution_count": null,
      "metadata": {
        "colab": {
          "background_save": true
        },
        "id": "3aF0xxWNy9Od"
      },
      "outputs": [],
      "source": [
        "# form dataframe\n",
        "data = pd.DataFrame(df, columns=[\"CAD\", \"dQ\"])\n",
        "\n",
        "# plot the dataframe\n",
        "data.plot(x=\"CAD\", y=[\"dQ\"], kind = \"line\")\n",
        "plt.title(\"CAD vs dQ\")\n",
        "plt.xlabel(\"CAD (degree)\")\n",
        "plt.ylabel(\"dQ\")\n",
        "\n",
        "plt.show()\n",
        "\n",
        "# form dataframe\n",
        "data = pd.DataFrame(df, columns=[\"CAD\", \"dQ(hohen)\"])\n",
        "\n",
        "# plot the dataframe\n",
        "data.plot(x=\"CAD\", y=[\"dQ(hohen)\"], kind = \"line\")\n",
        "plt.title(\"CAD vs dQ(hohen)\")\n",
        "plt.xlabel(\"CAD (degree)\")\n",
        "plt.ylabel(\"dQ\")\n",
        "\n",
        "plt.show()"
      ]
    },
    {
      "cell_type": "code",
      "execution_count": null,
      "metadata": {
        "colab": {
          "background_save": true
        },
        "id": "y98KLl7U0iVW"
      },
      "outputs": [],
      "source": [
        "# form dataframe\n",
        "data = pd.DataFrame(df, columns=[\"CAD\", \"h\"])\n",
        "\n",
        "# plot the dataframe\n",
        "data.plot(x=\"CAD\", y=[\"h\"], kind = \"line\")\n",
        "plt.title(\"CAD vs h\")\n",
        "plt.xlabel(\"CAD (degree)\")\n",
        "plt.ylabel(\"h\")\n",
        "\n",
        "plt.show()\n",
        "\n",
        "# form dataframe\n",
        "data = pd.DataFrame(df, columns=[\"CAD\", \"h(hohen)\"])\n",
        "\n",
        "# plot the dataframe\n",
        "data.plot(x=\"CAD\", y=[\"h(hohen)\"], kind = \"line\")\n",
        "plt.title(\"CAD vs h(hohen)\")\n",
        "plt.xlabel(\"CAD (degree)\")\n",
        "plt.ylabel(\"h(hohen)\")\n",
        "\n",
        "plt.show()"
      ]
    },
    {
      "cell_type": "code",
      "execution_count": null,
      "metadata": {
        "colab": {
          "background_save": true
        },
        "id": "RmBvQWX0D0m7"
      },
      "outputs": [],
      "source": [
        "trace = go.Scatter(x=df[\"CAD\"], y=df[\"volume\"], mode='markers', name='Scatter Plot')\n",
        "\n",
        "layout = go.Layout(\n",
        "    title='CAD vs volume',\n",
        "    xaxis=dict(title='CAD'),\n",
        "    yaxis=dict(title='volume')\n",
        ")\n",
        "\n",
        "fig = go.Figure(data=[trace], layout=layout)\n",
        "\n",
        "fig.show()"
      ]
    },
    {
      "cell_type": "code",
      "execution_count": null,
      "metadata": {
        "colab": {
          "background_save": true
        },
        "id": "W8xSenwYrDIV"
      },
      "outputs": [],
      "source": [
        "data = pd.DataFrame(df, columns=[\"CAD\", \"P_conv\",\"P_conv(hohen)\"])\n",
        "\n",
        "fig, ax = plt.subplots()\n",
        "# ploP the dataframe\n",
        "data.plot(x=\"CAD\", y=\"P_conv\", kind = \"line\", label=\"convectional pressure(Woschni)\", ax=ax)\n",
        "# Add another line plot to the same graph\n",
        "data.plot(x=\"CAD\", y=\"P_conv(hohen)\", kind=\"line\", label=\"convectional Pressure(Hohenberg)\", ax=ax)\n",
        "\n",
        "plt.title(\"CAD vs P_conv and P_conv(hohen)\")\n",
        "plt.xlabel(\"CAD (degree)\")\n",
        "plt.ylabel(\"Pressure\")\n",
        "\n",
        "plt.legend()\n",
        "plt.show()"
      ]
    },
    {
      "cell_type": "code",
      "execution_count": null,
      "metadata": {
        "colab": {
          "background_save": true
        },
        "id": "sSXhGi8o1_Wl"
      },
      "outputs": [],
      "source": [
        "data = pd.DataFrame(df, columns=[\"CAD\", \"P_conv\",\"load\"])\n",
        "\n",
        "fig, ax = plt.subplots()\n",
        "# ploP the dataframe\n",
        "data.plot(x=\"CAD\", y=\"P_conv\", kind = \"line\", label=\"convectional pressure\", ax=ax)\n",
        "# Add another line plot to the same graph\n",
        "data.plot(x=\"CAD\", y=\"load\", kind=\"line\", label=\"experimental Pressure\", ax=ax)\n",
        "\n",
        "plt.title(\"CAD vs P_conv and P_exp\")\n",
        "plt.xlabel(\"CAD (degree)\")\n",
        "plt.ylabel(\"Pressure\")\n",
        "\n",
        "plt.legend()\n",
        "plt.show()\n",
        "\n",
        "data = pd.DataFrame(df, columns=[\"CAD\", \"P_conv(hohen)\",\"load\"])\n",
        "\n",
        "fig, ax = plt.subplots()\n",
        "# ploP the dataframe\n",
        "data.plot(x=\"CAD\", y=\"P_conv(hohen)\", kind = \"line\", label=\"convectional pressure\", ax=ax)\n",
        "# Add another line plot to the same graph\n",
        "data.plot(x=\"CAD\", y=\"load\", kind=\"line\", label=\"experimental Pressure\", ax=ax)\n",
        "\n",
        "plt.title(\"CAD vs P_conv(hohen) and P_exp\")\n",
        "plt.xlabel(\"CAD (degree)\")\n",
        "plt.ylabel(\"Pressure\")\n",
        "\n",
        "plt.legend()\n",
        "plt.show()"
      ]
    },
    {
      "cell_type": "code",
      "execution_count": null,
      "metadata": {
        "colab": {
          "background_save": true
        },
        "id": "sAyJc6C3ZABT"
      },
      "outputs": [],
      "source": [
        "rmse1 = np.sqrt(np.mean(pow(df['P_conv']-df['load'], 2)))\n",
        "rmse1"
      ]
    },
    {
      "cell_type": "code",
      "execution_count": null,
      "metadata": {
        "colab": {
          "background_save": true
        },
        "id": "Ilb69Fv9Zc5f"
      },
      "outputs": [],
      "source": [
        "rmse1 = np.sqrt(np.mean(pow(df['P_conv(hohen)']-df['load'], 2)))\n",
        "rmse1"
      ]
    },
    {
      "cell_type": "code",
      "execution_count": null,
      "metadata": {
        "colab": {
          "background_save": true
        },
        "id": "NCQbNJioD3VJ"
      },
      "outputs": [],
      "source": [
        "#pressure(bar)\n",
        "trace = go.Scatter(x=df[\"CAD\"], y=df[\"pressure(bar)\"], mode='markers', name='Scatter Plot')\n",
        "\n",
        "layout = go.Layout(\n",
        "    title='CAD vs pressure(bar)',\n",
        "    xaxis=dict(title='CAD'),\n",
        "    yaxis=dict(title='pressure(bar)')\n",
        ")\n",
        "\n",
        "fig = go.Figure(data=[trace], layout=layout)\n",
        "\n",
        "# Define your second trace\n",
        "trace2 = go.Scatter(x=df[\"CAD\"], y=df[\"load\"], mode='lines', name='Line Plot')\n",
        "\n",
        "# Add both traces to the figure\n",
        "fig.add_trace(trace2)\n",
        "\n",
        "# Update the layout if needed (e.g., title, axis labels)\n",
        "fig.update_layout(\n",
        "    title='CAD vs pressure(bar) and load',\n",
        "    xaxis=dict(title='CAD'),\n",
        "    yaxis=dict(title='pressure')\n",
        ")\n",
        "\n",
        "# Show the updated figure with both traces\n",
        "fig.show()\n"
      ]
    },
    {
      "cell_type": "code",
      "execution_count": null,
      "metadata": {
        "colab": {
          "background_save": true
        },
        "id": "vA749YAbD50f"
      },
      "outputs": [],
      "source": [
        "trace = go.Scatter(x=df[\"CAD\"], y=df[\"P_conv\"], mode='markers', name='Scatter Plot')\n",
        "\n",
        "layout = go.Layout(\n",
        "    title='CAD vs P_conv',\n",
        "    xaxis=dict(title='CAD'),\n",
        "    yaxis=dict(title='P_conv')\n",
        ")\n",
        "\n",
        "fig = go.Figure(data=[trace], layout=layout)\n",
        "# Define your second trace\n",
        "trace2 = go.Scatter(x=df[\"CAD\"], y=df[\"load\"], mode='lines', name='Line Plot')\n",
        "\n",
        "# Add both traces to the figure\n",
        "fig.add_trace(trace2)\n",
        "\n",
        "# Update the layout if needed (e.g., title, axis labels)\n",
        "fig.update_layout(\n",
        "    title='CAD vs P_conv and load',\n",
        "    xaxis=dict(title='CAD'),\n",
        "    yaxis=dict(title='pressure')\n",
        ")\n",
        "fig.show()\n",
        "\n",
        "trace = go.Scatter(x=df[\"CAD\"], y=df[\"P_conv(hohen)\"], mode='markers', name='Scatter Plot')\n",
        "\n",
        "layout = go.Layout(\n",
        "    title='CAD vs P_conv(hohen)',\n",
        "    xaxis=dict(title='CAD'),\n",
        "    yaxis=dict(title='P_conv(hohen)')\n",
        ")\n",
        "\n",
        "fig = go.Figure(data=[trace], layout=layout)\n",
        "# Define your second trace\n",
        "trace2 = go.Scatter(x=df[\"CAD\"], y=df[\"load\"], mode='lines', name='Line Plot')\n",
        "\n",
        "# Add both traces to the figure\n",
        "fig.add_trace(trace2)\n",
        "\n",
        "# Update the layout if needed (e.g., title, axis labels)\n",
        "fig.update_layout(\n",
        "    title='CAD vs P_conv(hohen) and load',\n",
        "    xaxis=dict(title='CAD'),\n",
        "    yaxis=dict(title='pressure')\n",
        ")\n",
        "fig.show()"
      ]
    },
    {
      "cell_type": "code",
      "execution_count": null,
      "metadata": {
        "colab": {
          "background_save": true
        },
        "id": "kk62Sn0KD-wJ"
      },
      "outputs": [],
      "source": [
        "trace = go.Scatter(x=df[\"CAD\"], y=df[\"T_conv\"], mode='markers', name='Scatter Plot')\n",
        "\n",
        "layout = go.Layout(\n",
        "    title='CAD vs T_conv',\n",
        "    xaxis=dict(title='CAD'),\n",
        "    yaxis=dict(title='T_conv')\n",
        ")\n",
        "\n",
        "fig = go.Figure(data=[trace], layout=layout)\n",
        "\n",
        "fig.show()"
      ]
    },
    {
      "cell_type": "code",
      "execution_count": null,
      "metadata": {
        "colab": {
          "background_save": true
        },
        "id": "1m24fkjGEBac"
      },
      "outputs": [],
      "source": [
        "df = df.iloc[:-1]\n",
        "\n",
        "trace = go.Scatter(x=df[\"CAD\"], y=df[\"HRR\"], mode='markers',  marker=dict(size=3),\n",
        "    name='Scatter Plot')\n",
        "\n",
        "layout = go.Layout(\n",
        "    title='CAD vs HRR',\n",
        "    xaxis=dict(title='CAD'),\n",
        "    yaxis=dict(title='HRR')\n",
        ")\n",
        "\n",
        "fig = go.Figure(data=[trace], layout=layout)\n",
        "\n",
        "fig.show()\n",
        "\n",
        "trace = go.Scatter(x=df[\"CAD\"], y=df[\"HRR(hohen)\"], mode='markers', name='Scatter Plot')\n",
        "\n",
        "layout = go.Layout(\n",
        "    title='CAD vs HRR(hohen)',\n",
        "    xaxis=dict(title='CAD'),\n",
        "    yaxis=dict(title='HRR(hohen)')\n",
        ")\n",
        "\n",
        "fig = go.Figure(data=[trace], layout=layout)\n",
        "\n",
        "fig.show()\n",
        "\n",
        "df = df.iloc[:-1]\n",
        "\n",
        "trace = go.Scatter(x=df[\"CAD\"], y=df[\"dQ/d0\"], mode='markers',  marker=dict(size=3),\n",
        "    name='Scatter Plot')\n",
        "\n",
        "layout = go.Layout(\n",
        "    title='CAD vs dQ/d0',\n",
        "    xaxis=dict(title='CAD'),\n",
        "    yaxis=dict(title='dQ/d0', range=[-20, 25])\n",
        ")\n",
        "\n",
        "fig = go.Figure(data=[trace], layout=layout)\n",
        "\n",
        "fig.show()\n"
      ]
    },
    {
      "cell_type": "code",
      "execution_count": null,
      "metadata": {
        "colab": {
          "background_save": true
        },
        "id": "WfOdx7ANEIUj"
      },
      "outputs": [],
      "source": [
        "trace = go.Scatter(x=df[\"CAD\"], y=df[\"Heat_flux\"], mode='markers', name='Scatter Plot')\n",
        "\n",
        "layout = go.Layout(\n",
        "    title='CAD vs Heat_flux',\n",
        "    xaxis=dict(title='CAD'),\n",
        "    yaxis=dict(title='Heat_flux')\n",
        ")\n",
        "\n",
        "fig = go.Figure(data=[trace], layout=layout)\n",
        "\n",
        "fig.show()\n",
        "\n",
        "trace = go.Scatter(x=df[\"CAD\"], y=df[\"Heat_flux(hohen)\"], mode='markers', name='Scatter Plot')\n",
        "\n",
        "layout = go.Layout(\n",
        "    title='CAD vs Heat_flux(hohen)',\n",
        "    xaxis=dict(title='CAD'),\n",
        "    yaxis=dict(title='Heat_flux(hohen)')\n",
        ")\n",
        "\n",
        "fig = go.Figure(data=[trace], layout=layout)\n",
        "\n",
        "fig.show()"
      ]
    },
    {
      "cell_type": "code",
      "execution_count": null,
      "metadata": {
        "colab": {
          "background_save": true
        },
        "id": "lBNm8UxPEM_x"
      },
      "outputs": [],
      "source": [
        "trace = go.Scatter(x=df[\"CAD\"], y=df[\"vel(m/s)\"], mode='markers', name='Scatter Plot')\n",
        "\n",
        "layout = go.Layout(\n",
        "    title='CAD vs vel(m/s)',\n",
        "    xaxis=dict(title='CAD'),\n",
        "    yaxis=dict(title='vel(m/s)')\n",
        ")\n",
        "\n",
        "fig = go.Figure(data=[trace], layout=layout)\n",
        "\n",
        "fig.show()"
      ]
    },
    {
      "cell_type": "code",
      "execution_count": null,
      "metadata": {
        "colab": {
          "background_save": true
        },
        "id": "FisduJFvEQGZ"
      },
      "outputs": [],
      "source": [
        "trace = go.Scatter(x=df[\"CAD\"], y=df[\"dQ\"], mode='markers', name='Scatter Plot')\n",
        "\n",
        "layout = go.Layout(\n",
        "    title='CAD vs dQ',\n",
        "    xaxis=dict(title='CAD'),\n",
        "    yaxis=dict(title='dQ')\n",
        ")\n",
        "\n",
        "fig = go.Figure(data=[trace], layout=layout)\n",
        "\n",
        "fig.show()\n",
        "\n",
        "trace = go.Scatter(x=df[\"CAD\"], y=df[\"dQ(hohen)\"], mode='markers', name='Scatter Plot')\n",
        "\n",
        "layout = go.Layout(\n",
        "    title='CAD vs dQ(hohen)',\n",
        "    xaxis=dict(title='CAD'),\n",
        "    yaxis=dict(title='dQ(hohen)')\n",
        ")\n",
        "\n",
        "fig = go.Figure(data=[trace], layout=layout)\n",
        "\n",
        "fig.show()"
      ]
    },
    {
      "cell_type": "code",
      "execution_count": null,
      "metadata": {
        "colab": {
          "background_save": true
        },
        "id": "FK6iyc1h9UaX"
      },
      "outputs": [],
      "source": [
        "x=min(df['dQ(hohen)'])\n",
        "x"
      ]
    }
  ],
  "metadata": {
    "colab": {
      "provenance": []
    },
    "kernelspec": {
      "display_name": "Python 3",
      "name": "python3"
    },
    "language_info": {
      "name": "python"
    }
  },
  "nbformat": 4,
  "nbformat_minor": 0
}